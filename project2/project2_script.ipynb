{
 "cells": [
  {
   "cell_type": "markdown",
   "metadata": {},
   "source": [
    "# 查看数据"
   ]
  },
  {
   "cell_type": "code",
   "execution_count": 1,
   "metadata": {},
   "outputs": [],
   "source": [
    "import os\n",
    "import pathlib\n",
    "import numpy as np\n",
    "import pandas as pd"
   ]
  },
  {
   "cell_type": "code",
   "execution_count": 2,
   "metadata": {},
   "outputs": [],
   "source": [
    "from pyltp import SentenceSplitter\n",
    "import jieba \n",
    "\n",
    "def split_sentences(sentences):\n",
    "    sents = SentenceSplitter.split(sentences)\n",
    "    return [s for s in sents if len(s) > 0]\n",
    "\n",
    "def cut(sent):\n",
    "    return ' '.join(jieba.cut(sent))\n",
    "\n",
    "def cut_string(string):\n",
    "    sentences = split_sentences(string)\n",
    "    return [cut(s) for s in sentences]"
   ]
  },
  {
   "cell_type": "code",
   "execution_count": 3,
   "metadata": {},
   "outputs": [
    {
     "name": "stdout",
     "output_type": "stream",
     "text": [
      "/root/share/HCLG/project2\n"
     ]
    }
   ],
   "source": [
    "root = str(pathlib.Path(os.path.abspath('__file__')).parent)\n",
    "print(root)"
   ]
  },
  {
   "cell_type": "code",
   "execution_count": 4,
   "metadata": {
    "scrolled": true
   },
   "outputs": [
    {
     "data": {
      "text/html": [
       "<div>\n",
       "<style scoped>\n",
       "    .dataframe tbody tr th:only-of-type {\n",
       "        vertical-align: middle;\n",
       "    }\n",
       "\n",
       "    .dataframe tbody tr th {\n",
       "        vertical-align: top;\n",
       "    }\n",
       "\n",
       "    .dataframe thead th {\n",
       "        text-align: right;\n",
       "    }\n",
       "</style>\n",
       "<table border=\"1\" class=\"dataframe\">\n",
       "  <thead>\n",
       "    <tr style=\"text-align: right;\">\n",
       "      <th></th>\n",
       "      <th>id</th>\n",
       "      <th>author</th>\n",
       "      <th>source</th>\n",
       "      <th>content</th>\n",
       "      <th>feature</th>\n",
       "      <th>title</th>\n",
       "      <th>url</th>\n",
       "    </tr>\n",
       "  </thead>\n",
       "  <tbody>\n",
       "    <tr>\n",
       "      <th>0</th>\n",
       "      <td>89617</td>\n",
       "      <td>NaN</td>\n",
       "      <td>快科技@http://www.kkj.cn/</td>\n",
       "      <td>此外，自本周（6月12日）起，除小米手机6等15款机型外，其余机型已暂停更新发布（含开发版/...</td>\n",
       "      <td>{\"type\":\"科技\",\"site\":\"cnbeta\",\"commentNum\":\"37\"...</td>\n",
       "      <td>小米MIUI 9首批机型曝光：共计15款</td>\n",
       "      <td>http://www.cnbeta.com/articles/tech/623597.htm</td>\n",
       "    </tr>\n",
       "    <tr>\n",
       "      <th>1</th>\n",
       "      <td>89616</td>\n",
       "      <td>NaN</td>\n",
       "      <td>快科技@http://www.kkj.cn/</td>\n",
       "      <td>骁龙835作为唯一通过Windows 10桌面平台认证的ARM处理器，高通强调，不会因为只考...</td>\n",
       "      <td>{\"type\":\"科技\",\"site\":\"cnbeta\",\"commentNum\":\"15\"...</td>\n",
       "      <td>骁龙835在Windows 10上的性能表现有望改善</td>\n",
       "      <td>http://www.cnbeta.com/articles/tech/623599.htm</td>\n",
       "    </tr>\n",
       "    <tr>\n",
       "      <th>2</th>\n",
       "      <td>89615</td>\n",
       "      <td>NaN</td>\n",
       "      <td>快科技@http://www.kkj.cn/</td>\n",
       "      <td>此前的一加3T搭载的是3400mAh电池，DashCharge快充规格为5V/4A。\\r\\n...</td>\n",
       "      <td>{\"type\":\"科技\",\"site\":\"cnbeta\",\"commentNum\":\"18\"...</td>\n",
       "      <td>一加手机5细节曝光：3300mAh、充半小时用1天</td>\n",
       "      <td>http://www.cnbeta.com/articles/tech/623601.htm</td>\n",
       "    </tr>\n",
       "    <tr>\n",
       "      <th>3</th>\n",
       "      <td>89614</td>\n",
       "      <td>NaN</td>\n",
       "      <td>新华社</td>\n",
       "      <td>这是6月18日在葡萄牙中部大佩德罗冈地区拍摄的被森林大火烧毁的汽车。新华社记者张立云摄\\r\\n</td>\n",
       "      <td>{\"type\":\"国际新闻\",\"site\":\"环球\",\"commentNum\":\"0\",\"j...</td>\n",
       "      <td>葡森林火灾造成至少62人死亡 政府宣布进入紧急状态（组图）</td>\n",
       "      <td>http://world.huanqiu.com/hot/2017-06/10866126....</td>\n",
       "    </tr>\n",
       "    <tr>\n",
       "      <th>4</th>\n",
       "      <td>89613</td>\n",
       "      <td>胡淑丽_MN7479</td>\n",
       "      <td>深圳大件事</td>\n",
       "      <td>（原标题：44岁女子跑深圳约会网友被拒，暴雨中裸身奔走……）\\r\\n@深圳交警微博称：昨日清...</td>\n",
       "      <td>{\"type\":\"新闻\",\"site\":\"网易热门\",\"commentNum\":\"978\",...</td>\n",
       "      <td>44岁女子约网友被拒暴雨中裸奔 交警为其披衣相随</td>\n",
       "      <td>http://news.163.com/17/0618/00/CN617P3Q0001875...</td>\n",
       "    </tr>\n",
       "  </tbody>\n",
       "</table>\n",
       "</div>"
      ],
      "text/plain": [
       "      id      author                  source  \\\n",
       "0  89617         NaN  快科技@http://www.kkj.cn/   \n",
       "1  89616         NaN  快科技@http://www.kkj.cn/   \n",
       "2  89615         NaN  快科技@http://www.kkj.cn/   \n",
       "3  89614         NaN                     新华社   \n",
       "4  89613  胡淑丽_MN7479                   深圳大件事   \n",
       "\n",
       "                                             content  \\\n",
       "0  此外，自本周（6月12日）起，除小米手机6等15款机型外，其余机型已暂停更新发布（含开发版/...   \n",
       "1  骁龙835作为唯一通过Windows 10桌面平台认证的ARM处理器，高通强调，不会因为只考...   \n",
       "2  此前的一加3T搭载的是3400mAh电池，DashCharge快充规格为5V/4A。\\r\\n...   \n",
       "3    这是6月18日在葡萄牙中部大佩德罗冈地区拍摄的被森林大火烧毁的汽车。新华社记者张立云摄\\r\\n   \n",
       "4  （原标题：44岁女子跑深圳约会网友被拒，暴雨中裸身奔走……）\\r\\n@深圳交警微博称：昨日清...   \n",
       "\n",
       "                                             feature  \\\n",
       "0  {\"type\":\"科技\",\"site\":\"cnbeta\",\"commentNum\":\"37\"...   \n",
       "1  {\"type\":\"科技\",\"site\":\"cnbeta\",\"commentNum\":\"15\"...   \n",
       "2  {\"type\":\"科技\",\"site\":\"cnbeta\",\"commentNum\":\"18\"...   \n",
       "3  {\"type\":\"国际新闻\",\"site\":\"环球\",\"commentNum\":\"0\",\"j...   \n",
       "4  {\"type\":\"新闻\",\"site\":\"网易热门\",\"commentNum\":\"978\",...   \n",
       "\n",
       "                           title  \\\n",
       "0           小米MIUI 9首批机型曝光：共计15款   \n",
       "1     骁龙835在Windows 10上的性能表现有望改善   \n",
       "2      一加手机5细节曝光：3300mAh、充半小时用1天   \n",
       "3  葡森林火灾造成至少62人死亡 政府宣布进入紧急状态（组图）   \n",
       "4       44岁女子约网友被拒暴雨中裸奔 交警为其披衣相随   \n",
       "\n",
       "                                                 url  \n",
       "0     http://www.cnbeta.com/articles/tech/623597.htm  \n",
       "1     http://www.cnbeta.com/articles/tech/623599.htm  \n",
       "2     http://www.cnbeta.com/articles/tech/623601.htm  \n",
       "3  http://world.huanqiu.com/hot/2017-06/10866126....  \n",
       "4  http://news.163.com/17/0618/00/CN617P3Q0001875...  "
      ]
     },
     "execution_count": 4,
     "metadata": {},
     "output_type": "execute_result"
    }
   ],
   "source": [
    "data = pd.read_csv(os.path.join(root, 'dataset/sqlResult_1558435.csv'), encoding='gb18030')\n",
    "data.head()"
   ]
  },
  {
   "cell_type": "markdown",
   "metadata": {},
   "source": [
    "# 训练词向量的数据"
   ]
  },
  {
   "cell_type": "code",
   "execution_count": 5,
   "metadata": {},
   "outputs": [],
   "source": [
    "# data['content']"
   ]
  },
  {
   "cell_type": "code",
   "execution_count": 7,
   "metadata": {},
   "outputs": [
    {
     "data": {
      "text/html": [
       "<div>\n",
       "<style scoped>\n",
       "    .dataframe tbody tr th:only-of-type {\n",
       "        vertical-align: middle;\n",
       "    }\n",
       "\n",
       "    .dataframe tbody tr th {\n",
       "        vertical-align: top;\n",
       "    }\n",
       "\n",
       "    .dataframe thead th {\n",
       "        text-align: right;\n",
       "    }\n",
       "</style>\n",
       "<table border=\"1\" class=\"dataframe\">\n",
       "  <thead>\n",
       "    <tr style=\"text-align: right;\">\n",
       "      <th></th>\n",
       "      <th>id</th>\n",
       "      <th>author</th>\n",
       "      <th>source</th>\n",
       "      <th>content</th>\n",
       "      <th>feature</th>\n",
       "      <th>title</th>\n",
       "      <th>url</th>\n",
       "      <th>combined</th>\n",
       "    </tr>\n",
       "  </thead>\n",
       "  <tbody>\n",
       "    <tr>\n",
       "      <th>0</th>\n",
       "      <td>89617</td>\n",
       "      <td>NaN</td>\n",
       "      <td>快科技@http://www.kkj.cn/</td>\n",
       "      <td>此外，自本周（6月12日）起，除小米手机6等15款机型外，其余机型已暂停更新发布（含开发版/...</td>\n",
       "      <td>{\"type\":\"科技\",\"site\":\"cnbeta\",\"commentNum\":\"37\"...</td>\n",
       "      <td>小米MIUI 9首批机型曝光：共计15款</td>\n",
       "      <td>http://www.cnbeta.com/articles/tech/623597.htm</td>\n",
       "      <td>此外，自本周（6月12日）起，除小米手机6等15款机型外，其余机型已暂停更新发布（含开发版/...</td>\n",
       "    </tr>\n",
       "    <tr>\n",
       "      <th>1</th>\n",
       "      <td>89616</td>\n",
       "      <td>NaN</td>\n",
       "      <td>快科技@http://www.kkj.cn/</td>\n",
       "      <td>骁龙835作为唯一通过Windows 10桌面平台认证的ARM处理器，高通强调，不会因为只考...</td>\n",
       "      <td>{\"type\":\"科技\",\"site\":\"cnbeta\",\"commentNum\":\"15\"...</td>\n",
       "      <td>骁龙835在Windows 10上的性能表现有望改善</td>\n",
       "      <td>http://www.cnbeta.com/articles/tech/623599.htm</td>\n",
       "      <td>骁龙835作为唯一通过Windows 10桌面平台认证的ARM处理器，高通强调，不会因为只考...</td>\n",
       "    </tr>\n",
       "  </tbody>\n",
       "</table>\n",
       "</div>"
      ],
      "text/plain": [
       "      id author                  source  \\\n",
       "0  89617    NaN  快科技@http://www.kkj.cn/   \n",
       "1  89616    NaN  快科技@http://www.kkj.cn/   \n",
       "\n",
       "                                             content  \\\n",
       "0  此外，自本周（6月12日）起，除小米手机6等15款机型外，其余机型已暂停更新发布（含开发版/...   \n",
       "1  骁龙835作为唯一通过Windows 10桌面平台认证的ARM处理器，高通强调，不会因为只考...   \n",
       "\n",
       "                                             feature  \\\n",
       "0  {\"type\":\"科技\",\"site\":\"cnbeta\",\"commentNum\":\"37\"...   \n",
       "1  {\"type\":\"科技\",\"site\":\"cnbeta\",\"commentNum\":\"15\"...   \n",
       "\n",
       "                        title                                             url  \\\n",
       "0        小米MIUI 9首批机型曝光：共计15款  http://www.cnbeta.com/articles/tech/623597.htm   \n",
       "1  骁龙835在Windows 10上的性能表现有望改善  http://www.cnbeta.com/articles/tech/623599.htm   \n",
       "\n",
       "                                            combined  \n",
       "0  此外，自本周（6月12日）起，除小米手机6等15款机型外，其余机型已暂停更新发布（含开发版/...  \n",
       "1  骁龙835作为唯一通过Windows 10桌面平台认证的ARM处理器，高通强调，不会因为只考...  "
      ]
     },
     "execution_count": 7,
     "metadata": {},
     "output_type": "execute_result"
    }
   ],
   "source": [
    "data['combined'] = data['content'] + data['title']\n",
    "data.head(2)"
   ]
  },
  {
   "cell_type": "code",
   "execution_count": 8,
   "metadata": {},
   "outputs": [
    {
     "data": {
      "text/plain": [
       "'此外，自本周（6月12日）起，除小米手机6等15款机型外，其余机型已暂停更新发布（含开发版/体验版内测，稳定版暂不受影响），以确保工程师可以集中全部精力进行系统优化工作。有人猜测这也是将精力主要用到MIUI 9的研发之中。\\nMIUI 8去年5月发布，距今已有一年有余，也是时候更新换代了。\\n当然，关于MIUI 9的确切信息，我们还是等待官方消息。\\n小米MIUI 9首批机型曝光：共计15款'"
      ]
     },
     "execution_count": 8,
     "metadata": {},
     "output_type": "execute_result"
    }
   ],
   "source": [
    "data['combined'][0].replace('\\r', '').replace('\\r', '')"
   ]
  },
  {
   "cell_type": "code",
   "execution_count": 9,
   "metadata": {},
   "outputs": [],
   "source": [
    "data = data.dropna(subset=['content'])"
   ]
  },
  {
   "cell_type": "code",
   "execution_count": 10,
   "metadata": {},
   "outputs": [
    {
     "data": {
      "text/plain": [
       "'此外，自本周（6月12日）起，除小米手机6等15款机型外，其余机型已暂停更新发布（含开发版/体验版内测，稳定版暂不受影响），以确保工程师可以集中全部精力进行系统优化工作。有人猜测这也是将精力主要用到MIUI 9的研发之中。\\r\\nMIUI 8去年5月发布，距今已有一年有余，也是时候更新换代了。\\r\\n当然，关于MIUI 9的确切信息，我们还是等待官方消息。\\r\\n小米MIUI 9首批机型曝光：共计15款'"
      ]
     },
     "execution_count": 10,
     "metadata": {},
     "output_type": "execute_result"
    }
   ],
   "source": [
    "data['combined'][0]"
   ]
  },
  {
   "cell_type": "code",
   "execution_count": 11,
   "metadata": {},
   "outputs": [
    {
     "name": "stderr",
     "output_type": "stream",
     "text": [
      "Building prefix dict from the default dictionary ...\n",
      "Loading model from cache /tmp/jieba.cache\n",
      "Loading model cost 0.965 seconds.\n",
      "Prefix dict has been built successfully.\n"
     ]
    },
    {
     "data": {
      "text/plain": [
       "'此外 ， 自 本周 （ 6 月 12 日 ） 起 ， 除 小米 手机 6 等 15 款 机型 外 ， 其余 机型 已 暂停 更新 发布 （ 含 开发 版 / 体验版 内测 ， 稳定版 暂不受 影响 ） ， 以 确保 工程师 可以 集中 全部 精力 进行 系统优化 工作 。 有人 猜测 这 也 是 将 精力 主要 用到 MIUI   9 的 研发 之中 。 MIUI   8 去年 5 月 发布 ， 距今已有 一年 有余 ， 也 是 时候 更新换代 了 。 当然 ， 关于 MIUI   9 的 确切 信息 ， 我们 还是 等待 官方消息 。 小米 MIUI   9 首批 机型 曝光 ： 共计 15 款'"
      ]
     },
     "execution_count": 11,
     "metadata": {},
     "output_type": "execute_result"
    }
   ],
   "source": [
    "cut(data['combined'][0].replace('\\n', '').replace('\\r', ''))"
   ]
  },
  {
   "cell_type": "code",
   "execution_count": 105,
   "metadata": {},
   "outputs": [],
   "source": [
    "# data_list[-1].strip().replace('\\u3000', '').replace('\\\\ n', '')"
   ]
  },
  {
   "cell_type": "code",
   "execution_count": 12,
   "metadata": {},
   "outputs": [],
   "source": [
    "from tqdm import tqdm"
   ]
  },
  {
   "cell_type": "markdown",
   "metadata": {},
   "source": [
    "## 保存到文件，并于wiki的数据进行合并"
   ]
  },
  {
   "cell_type": "code",
   "execution_count": 13,
   "metadata": {},
   "outputs": [],
   "source": [
    "# with open('dataset/content_cut.txt', 'a', encoding='utf-8') as f:\n",
    "#     for line in tqdm(data['combined']):\n",
    "#         f.write(cut(line.replace('\\n', '').replace('\\r', '')))\n",
    "# #         f.write('\\n')"
   ]
  },
  {
   "cell_type": "code",
   "execution_count": 14,
   "metadata": {},
   "outputs": [
    {
     "name": "stdout",
     "output_type": "stream",
     "text": [
      "此外，自本周（6月12日）起，除小米手机6等15款机型外，其余机型已暂停更新发布（含开发版/体验版内测，稳定版暂不受影响），以确保工程师可以集中全部精力进行系统优化工作。有人猜测这也是将精力主要用到MIUI 9的研发之中。\r\n",
      "MIUI 8去年5月发布，距今已有一年有余，也是时候更新换代了。\r\n",
      "当然，关于MIUI 9的确切信息，我们还是等待官方消息。\r\n",
      "\n"
     ]
    }
   ],
   "source": [
    "test = data['content'][0]\n",
    "print(test)"
   ]
  },
  {
   "cell_type": "code",
   "execution_count": 15,
   "metadata": {},
   "outputs": [
    {
     "name": "stdout",
     "output_type": "stream",
     "text": [
      "['此外 ， 自 本周 （ 6 月 12 日 ） 起 ， 除 小米 手机 6 等 15 款 机型 外 ， 其余 机型 已 暂停 更新 发布 （ 含 开发 版 / 体验版 内测 ， 稳定版 暂不受 影响 ） ， 以 确保 工程师 可以 集中 全部 精力 进行 系统优化 工作 。', '有人 猜测 这 也 是 将 精力 主要 用到 MIUI   9 的 研发 之中 。', 'MIUI   8 去年 5 月 发布 ， 距今已有 一年 有余 ， 也 是 时候 更新换代 了 。', '当然 ， 关于 MIUI   9 的 确切 信息 ， 我们 还是 等待 官方消息 。']\n"
     ]
    }
   ],
   "source": [
    "sents = cut_string(test)\n",
    "print(sents)"
   ]
  },
  {
   "cell_type": "code",
   "execution_count": 16,
   "metadata": {},
   "outputs": [],
   "source": [
    "import SIF.src.data_io as data_io\n",
    "import SIF.src.params as params\n",
    "import SIF.src.SIF_embedding as SIF_embedding"
   ]
  },
  {
   "cell_type": "code",
   "execution_count": 17,
   "metadata": {},
   "outputs": [],
   "source": [
    "wordfile = '/root/share/model/zhwiki_embedding_256.bin'\n",
    "weightfile = os.path.join('/root/share/HCLG/project2/SIF/auxiliary_data/cnwiki_vocab.txt') # each line is a word and its frequency\n",
    "weightpara = 1e-3 # the parameter in the SIF weighting scheme, usually in the range [3e-5, 3e-3]\n",
    "rmpc = 1 # number of principal components to remove in SIF weighting scheme(是否去掉最大主成分项)"
   ]
  },
  {
   "cell_type": "code",
   "execution_count": 18,
   "metadata": {},
   "outputs": [],
   "source": [
    "(words, We) = data_io.getWordmap(wordfile)"
   ]
  },
  {
   "cell_type": "code",
   "execution_count": 19,
   "metadata": {},
   "outputs": [],
   "source": [
    "# with open(weightfile, 'r', encoding='utf-8') as f:\n",
    "#     weight = f.readlines()"
   ]
  },
  {
   "cell_type": "code",
   "execution_count": 20,
   "metadata": {},
   "outputs": [],
   "source": [
    "# load word weights\n",
    "word2weight = data_io.getWordWeight(weightfile, weightpara) # word2weight['str'] is the weight for the word 'str'\n",
    "weight4ind = data_io.getWeight(words, word2weight) # weight4ind[i] is the weight for the i-th word"
   ]
  },
  {
   "cell_type": "code",
   "execution_count": 21,
   "metadata": {},
   "outputs": [],
   "source": [
    "# load sentences\n",
    "x, m = data_io.sentences2idx(sents, words)"
   ]
  },
  {
   "cell_type": "code",
   "execution_count": 22,
   "metadata": {},
   "outputs": [],
   "source": [
    "w = data_io.seq2weight(x, m, weight4ind) # get word weights"
   ]
  },
  {
   "cell_type": "code",
   "execution_count": 23,
   "metadata": {},
   "outputs": [],
   "source": [
    "# set parameters\n",
    "params = params.params()\n",
    "params.rmpc = rmpc\n",
    "# get SIF embedding\n",
    "embedding = SIF_embedding.SIF_embedding(We, x, w, params) # embedding[i,:] is the embedding for sentence i"
   ]
  },
  {
   "cell_type": "markdown",
   "metadata": {},
   "source": [
    "##  每个句子的句向量: <V0, V1, V2, ..., Vn>"
   ]
  },
  {
   "cell_type": "code",
   "execution_count": 24,
   "metadata": {},
   "outputs": [
    {
     "data": {
      "text/plain": [
       "array([[-0.31514071, -0.56987926, -0.01390499, ...,  0.13497118,\n",
       "         1.12674616, -0.43519123],\n",
       "       [ 0.01419883,  0.12753887,  0.18750542, ...,  0.04438578,\n",
       "        -0.58553998, -0.09420235],\n",
       "       [ 0.23185268, -0.3511752 , -0.07844421, ...,  0.25428663,\n",
       "         0.54273232, -0.09030766],\n",
       "       [-0.05585932,  0.43387274, -0.09716297, ..., -0.30828524,\n",
       "        -0.43729487,  0.35779271]])"
      ]
     },
     "execution_count": 24,
     "metadata": {},
     "output_type": "execute_result"
    }
   ],
   "source": [
    "embedding"
   ]
  },
  {
   "cell_type": "code",
   "execution_count": 25,
   "metadata": {},
   "outputs": [
    {
     "data": {
      "text/plain": [
       "'小米MIUI9首批机型曝光：共计15款'"
      ]
     },
     "execution_count": 25,
     "metadata": {},
     "output_type": "execute_result"
    }
   ],
   "source": [
    "test_title = data['title'][0].replace(' ', '')\n",
    "test_title"
   ]
  },
  {
   "cell_type": "code",
   "execution_count": 26,
   "metadata": {},
   "outputs": [
    {
     "data": {
      "text/plain": [
       "['小米 MIUI9 首批 机型 曝光 ： 共计 15 款']"
      ]
     },
     "execution_count": 26,
     "metadata": {},
     "output_type": "execute_result"
    }
   ],
   "source": [
    "titles = cut_string(test_title)\n",
    "titles"
   ]
  },
  {
   "cell_type": "code",
   "execution_count": 27,
   "metadata": {
    "scrolled": true
   },
   "outputs": [
    {
     "name": "stderr",
     "output_type": "stream",
     "text": [
      "/root/share/py37/lib/python3.7/site-packages/sklearn/decomposition/_truncated_svd.py:197: RuntimeWarning: invalid value encountered in true_divide\n",
      "  self.explained_variance_ratio_ = exp_var / full_var\n"
     ]
    }
   ],
   "source": [
    "title_x, title_m = data_io.sentences2idx(titles, words)\n",
    "title_w = data_io.seq2weight(title_x, title_m, weight4ind)\n",
    "title_embedding = SIF_embedding.SIF_embedding(We, title_x, title_w, params)"
   ]
  },
  {
   "cell_type": "code",
   "execution_count": 28,
   "metadata": {},
   "outputs": [
    {
     "data": {
      "text/plain": [
       "array([[ 1.11022302e-16, -1.38777878e-17,  0.00000000e+00,\n",
       "         2.77555756e-17,  1.38777878e-17, -1.11022302e-16,\n",
       "         2.22044605e-16,  2.77555756e-17,  5.55111512e-17,\n",
       "        -1.11022302e-16, -5.55111512e-17,  1.11022302e-16,\n",
       "        -1.11022302e-16, -2.77555756e-17, -2.77555756e-17,\n",
       "         2.22044605e-16,  2.22044605e-16, -2.77555756e-17,\n",
       "        -4.44089210e-16,  6.93889390e-18, -4.44089210e-16,\n",
       "         2.77555756e-17, -2.22044605e-16,  6.93889390e-18,\n",
       "         5.55111512e-17,  1.11022302e-16,  5.55111512e-17,\n",
       "         5.55111512e-17, -5.55111512e-17,  5.55111512e-17,\n",
       "        -1.11022302e-16,  0.00000000e+00,  2.77555756e-17,\n",
       "         1.38777878e-17, -2.22044605e-16,  5.55111512e-17,\n",
       "         5.55111512e-17,  5.55111512e-17,  1.11022302e-16,\n",
       "         1.11022302e-16,  6.93889390e-18, -5.55111512e-17,\n",
       "        -5.55111512e-17, -2.22044605e-16,  1.11022302e-16,\n",
       "         1.11022302e-16, -6.93889390e-18, -2.77555756e-17,\n",
       "        -5.55111512e-17,  1.38777878e-17,  2.77555756e-17,\n",
       "         1.11022302e-16, -1.11022302e-16, -2.22044605e-16,\n",
       "         1.11022302e-16, -5.55111512e-17,  6.93889390e-18,\n",
       "        -1.38777878e-17,  3.46944695e-18, -5.55111512e-17,\n",
       "         5.55111512e-17, -2.77555756e-17,  1.11022302e-16,\n",
       "         5.55111512e-17, -1.11022302e-16,  5.55111512e-17,\n",
       "        -2.77555756e-17,  1.11022302e-16,  0.00000000e+00,\n",
       "         3.46944695e-18, -5.55111512e-17, -5.55111512e-17,\n",
       "         2.77555756e-17,  2.77555756e-17, -5.55111512e-17,\n",
       "        -2.22044605e-16, -2.77555756e-17,  2.77555756e-17,\n",
       "         2.22044605e-16,  1.11022302e-16,  5.55111512e-17,\n",
       "        -8.67361738e-19,  2.77555756e-17, -1.38777878e-17,\n",
       "        -2.77555756e-17,  1.11022302e-16,  2.77555756e-17,\n",
       "         0.00000000e+00,  2.77555756e-17, -4.16333634e-17,\n",
       "        -1.73472348e-18, -2.22044605e-16, -1.11022302e-16,\n",
       "        -5.55111512e-17,  1.11022302e-16,  6.93889390e-18,\n",
       "        -5.55111512e-17,  0.00000000e+00, -2.77555756e-17,\n",
       "        -4.16333634e-17,  6.93889390e-18, -5.55111512e-17,\n",
       "         5.55111512e-17, -1.11022302e-16,  8.32667268e-17,\n",
       "         2.77555756e-17,  1.38777878e-17, -2.22044605e-16,\n",
       "        -1.11022302e-16,  1.38777878e-17,  3.33066907e-16,\n",
       "        -1.11022302e-16,  5.55111512e-17, -2.22044605e-16,\n",
       "         1.11022302e-16,  2.77555756e-17,  5.55111512e-17,\n",
       "         2.77555756e-17,  2.22044605e-16,  1.11022302e-16,\n",
       "        -2.77555756e-17, -1.11022302e-16, -6.93889390e-18,\n",
       "        -1.11022302e-16,  5.55111512e-17,  1.11022302e-16,\n",
       "        -1.11022302e-16, -6.93889390e-18,  5.55111512e-17,\n",
       "         1.38777878e-17, -1.66533454e-16, -1.11022302e-16,\n",
       "        -5.55111512e-17,  1.38777878e-17,  1.38777878e-17,\n",
       "         1.11022302e-16,  5.55111512e-17,  1.11022302e-16,\n",
       "         1.11022302e-16, -1.73472348e-18,  5.55111512e-17,\n",
       "         5.55111512e-17, -2.22044605e-16,  4.44089210e-16,\n",
       "         2.77555756e-17, -1.11022302e-16, -2.77555756e-17,\n",
       "        -5.55111512e-17,  1.38777878e-17, -1.11022302e-16,\n",
       "        -2.22044605e-16,  1.11022302e-16,  2.77555756e-17,\n",
       "        -5.55111512e-17, -2.77555756e-17, -2.22044605e-16,\n",
       "        -1.11022302e-16,  6.93889390e-18, -1.11022302e-16,\n",
       "         2.22044605e-16, -1.11022302e-16,  5.55111512e-17,\n",
       "        -1.11022302e-16, -1.11022302e-16,  5.55111512e-17,\n",
       "        -3.46944695e-18, -2.77555756e-17, -6.93889390e-18,\n",
       "         2.77555756e-17,  5.55111512e-17, -1.11022302e-16,\n",
       "         3.33066907e-16,  5.55111512e-17, -5.55111512e-17,\n",
       "         5.55111512e-17,  2.22044605e-16, -1.38777878e-17,\n",
       "        -1.11022302e-16, -2.22044605e-16,  2.77555756e-17,\n",
       "         2.22044605e-16,  2.22044605e-16, -1.11022302e-16,\n",
       "         1.38777878e-17,  1.11022302e-16,  2.22044605e-16,\n",
       "        -1.11022302e-16,  1.11022302e-16, -1.11022302e-16,\n",
       "         6.93889390e-18,  5.55111512e-17,  1.11022302e-16,\n",
       "         5.55111512e-17, -1.11022302e-16,  4.44089210e-16,\n",
       "        -1.11022302e-16, -6.93889390e-18,  1.11022302e-16,\n",
       "        -2.22044605e-16, -1.11022302e-16, -1.11022302e-16,\n",
       "         1.11022302e-16, -1.11022302e-16, -2.22044605e-16,\n",
       "         5.55111512e-17, -2.22044605e-16,  0.00000000e+00,\n",
       "         2.22044605e-16,  5.55111512e-17, -1.38777878e-17,\n",
       "         6.93889390e-18, -6.93889390e-18,  1.11022302e-16,\n",
       "         4.44089210e-16,  5.55111512e-17,  1.38777878e-17,\n",
       "        -2.22044605e-16,  2.77555756e-17,  2.77555756e-17,\n",
       "        -1.11022302e-16, -8.67361738e-19,  2.22044605e-16,\n",
       "        -2.77555756e-17,  5.55111512e-17, -6.93889390e-18,\n",
       "         1.11022302e-16, -2.77555756e-17,  3.46944695e-18,\n",
       "        -1.11022302e-16,  1.38777878e-17,  1.11022302e-16,\n",
       "        -1.11022302e-16,  1.11022302e-16,  1.11022302e-16,\n",
       "         5.55111512e-17, -2.77555756e-17,  1.38777878e-17,\n",
       "        -1.11022302e-16, -2.77555756e-17, -3.46944695e-18,\n",
       "        -1.11022302e-16,  3.46944695e-18,  2.77555756e-17,\n",
       "        -1.11022302e-16,  1.11022302e-16,  5.55111512e-17,\n",
       "        -1.38777878e-17,  1.11022302e-16,  1.11022302e-16,\n",
       "         1.73472348e-18, -1.11022302e-16,  2.22044605e-16,\n",
       "         2.77555756e-17,  2.22044605e-16,  2.22044605e-16,\n",
       "         2.77555756e-17]])"
      ]
     },
     "execution_count": 28,
     "metadata": {},
     "output_type": "execute_result"
    }
   ],
   "source": [
    "title_embedding"
   ]
  },
  {
   "cell_type": "code",
   "execution_count": 29,
   "metadata": {},
   "outputs": [],
   "source": [
    "import numpy as np"
   ]
  },
  {
   "cell_type": "code",
   "execution_count": 30,
   "metadata": {},
   "outputs": [],
   "source": [
    "def euclidean_distance(x1, x2):\n",
    "    return np.sqrt(np.power(x1-x2,2).sum())"
   ]
  },
  {
   "cell_type": "code",
   "execution_count": 31,
   "metadata": {},
   "outputs": [
    {
     "data": {
      "text/plain": [
       "4.327866910154118"
      ]
     },
     "execution_count": 31,
     "metadata": {},
     "output_type": "execute_result"
    }
   ],
   "source": [
    "euclidean_distance(title_embedding[0], embedding[0])"
   ]
  },
  {
   "cell_type": "code",
   "execution_count": 32,
   "metadata": {},
   "outputs": [
    {
     "data": {
      "text/plain": [
       "4.3067576851583205"
      ]
     },
     "execution_count": 32,
     "metadata": {},
     "output_type": "execute_result"
    }
   ],
   "source": [
    "euclidean_distance(title_embedding[0], embedding[1])"
   ]
  },
  {
   "cell_type": "code",
   "execution_count": 33,
   "metadata": {},
   "outputs": [
    {
     "data": {
      "text/plain": [
       "4.37685473018191"
      ]
     },
     "execution_count": 33,
     "metadata": {},
     "output_type": "execute_result"
    }
   ],
   "source": [
    "euclidean_distance(title_embedding[0], embedding[2])"
   ]
  },
  {
   "cell_type": "code",
   "execution_count": 34,
   "metadata": {},
   "outputs": [
    {
     "data": {
      "text/plain": [
       "3.2951434324141733"
      ]
     },
     "execution_count": 34,
     "metadata": {},
     "output_type": "execute_result"
    }
   ],
   "source": [
    "euclidean_distance(title_embedding[0], embedding[3])"
   ]
  },
  {
   "cell_type": "code",
   "execution_count": 35,
   "metadata": {},
   "outputs": [],
   "source": [
    "# !pip3 install scikit-fda -i https://mirrors.aliyun.com/pypi/simple/"
   ]
  },
  {
   "cell_type": "code",
   "execution_count": 36,
   "metadata": {},
   "outputs": [],
   "source": [
    "test_score = [4.277586200598373, 4.226074333307235, 4.337807828896572, 3.2313757743646665]\n",
    "test_y = [1, 1, 0, 1]"
   ]
  },
  {
   "cell_type": "code",
   "execution_count": 37,
   "metadata": {},
   "outputs": [],
   "source": [
    "import pandas as pd"
   ]
  },
  {
   "cell_type": "code",
   "execution_count": 38,
   "metadata": {},
   "outputs": [],
   "source": [
    "# from sklearn.neighbors import KNeighborsClassifier\n",
    "# knn = KNeighborsClassifier(n_neighbors=1)\n",
    "# knn.fit(test_score.reshape(-1, 1), test_y)"
   ]
  },
  {
   "cell_type": "code",
   "execution_count": 39,
   "metadata": {},
   "outputs": [],
   "source": [
    "# knn.predict(test_score.reshape(-1, 1))"
   ]
  },
  {
   "cell_type": "code",
   "execution_count": 40,
   "metadata": {},
   "outputs": [],
   "source": [
    "import skfda\n",
    "import skfda.preprocessing.smoothing.kernel_smoothers as ks\n",
    "import skfda.preprocessing.smoothing.validation as val"
   ]
  },
  {
   "cell_type": "code",
   "execution_count": 41,
   "metadata": {},
   "outputs": [],
   "source": [
    "knn = ks.KNeighborsSmoother(smoothing_parameter=2)"
   ]
  },
  {
   "cell_type": "code",
   "execution_count": 42,
   "metadata": {},
   "outputs": [
    {
     "data": {
      "text/plain": [
       "[[1, 2, 3, 4]]"
      ]
     },
     "execution_count": 42,
     "metadata": {},
     "output_type": "execute_result"
    }
   ],
   "source": [
    "[[i for i in range(1, len(test_score)+1)]]"
   ]
  },
  {
   "cell_type": "code",
   "execution_count": 43,
   "metadata": {},
   "outputs": [],
   "source": [
    "from skfda import FDataGrid\n",
    "fd = FDataGrid(\n",
    "    sample_points=test_score,\n",
    "    data_matrix=[[1, 2, 3, 4]])"
   ]
  },
  {
   "cell_type": "code",
   "execution_count": 44,
   "metadata": {},
   "outputs": [],
   "source": [
    "fd_smoothed = knn.fit_transform(fd)"
   ]
  },
  {
   "cell_type": "code",
   "execution_count": 45,
   "metadata": {},
   "outputs": [
    {
     "data": {
      "text/plain": [
       "array([[[1.5],\n",
       "        [1.5],\n",
       "        [2. ],\n",
       "        [3. ]]])"
      ]
     },
     "execution_count": 45,
     "metadata": {},
     "output_type": "execute_result"
    }
   ],
   "source": [
    "fd_smoothed.data_matrix.round(2)"
   ]
  },
  {
   "cell_type": "code",
   "execution_count": 46,
   "metadata": {},
   "outputs": [
    {
     "data": {
      "text/plain": [
       "[1.5, 1.5, 2.0, 3.0]"
      ]
     },
     "execution_count": 46,
     "metadata": {},
     "output_type": "execute_result"
    }
   ],
   "source": [
    "[i[0] for i in fd_smoothed.data_matrix.round(2)[0]]"
   ]
  },
  {
   "cell_type": "code",
   "execution_count": 47,
   "metadata": {},
   "outputs": [
    {
     "data": {
      "text/plain": [
       "1"
      ]
     },
     "execution_count": 47,
     "metadata": {},
     "output_type": "execute_result"
    }
   ],
   "source": [
    "4//3"
   ]
  },
  {
   "cell_type": "code",
   "execution_count": null,
   "metadata": {},
   "outputs": [],
   "source": []
  },
  {
   "cell_type": "code",
   "execution_count": null,
   "metadata": {},
   "outputs": [],
   "source": []
  }
 ],
 "metadata": {
  "kernelspec": {
   "display_name": "py37",
   "language": "python",
   "name": "py37"
  },
  "language_info": {
   "codemirror_mode": {
    "name": "ipython",
    "version": 3
   },
   "file_extension": ".py",
   "mimetype": "text/x-python",
   "name": "python",
   "nbconvert_exporter": "python",
   "pygments_lexer": "ipython3",
   "version": "3.7.1"
  }
 },
 "nbformat": 4,
 "nbformat_minor": 4
}
